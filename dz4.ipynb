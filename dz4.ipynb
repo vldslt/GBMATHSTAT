{
  "nbformat": 4,
  "nbformat_minor": 0,
  "metadata": {
    "colab": {
      "name": "dz4.ipynb",
      "provenance": [],
      "authorship_tag": "ABX9TyMzE0sQlxn1/8sxsmeb+PQL",
      "include_colab_link": true
    },
    "kernelspec": {
      "name": "python3",
      "display_name": "Python 3"
    },
    "language_info": {
      "name": "python"
    }
  },
  "cells": [
    {
      "cell_type": "markdown",
      "metadata": {
        "id": "view-in-github",
        "colab_type": "text"
      },
      "source": [
        "<a href=\"https://colab.research.google.com/github/vldslt/GBMATHSTAT/blob/main/dz4.ipynb\" target=\"_parent\"><img src=\"https://colab.research.google.com/assets/colab-badge.svg\" alt=\"Open In Colab\"/></a>"
      ]
    },
    {
      "cell_type": "code",
      "metadata": {
        "id": "tubpAI766okZ"
      },
      "source": [
        "import pandas as pd\n",
        "import numpy as np\n",
        "from math import sqrt\n",
        "import math"
      ],
      "execution_count": 23,
      "outputs": []
    },
    {
      "cell_type": "markdown",
      "metadata": {
        "id": "4Y_SZfQm6E5h"
      },
      "source": [
        "1)Случайная непрерывная величина A имеет равномерное распределение на промежутке (200, 800].\n",
        "Найдите ее среднее значение и дисперсию."
      ]
    },
    {
      "cell_type": "code",
      "metadata": {
        "colab": {
          "base_uri": "https://localhost:8080/"
        },
        "id": "NkQ0cg5s630F",
        "outputId": "b81d7569-39d1-4219-ca79-087c6a9ed52d"
      },
      "source": [
        "m = (200+800)/2\n",
        "print(m)\n",
        "d = ((800-200)**2)/12\n",
        "print(d)"
      ],
      "execution_count": 4,
      "outputs": [
        {
          "output_type": "stream",
          "name": "stdout",
          "text": [
            "500.0\n",
            "30000.0\n"
          ]
        }
      ]
    },
    {
      "cell_type": "markdown",
      "metadata": {
        "id": "9Mfr4sZu6Hy6"
      },
      "source": [
        "2)О случайной непрерывной равномерно распределенной величине B известно, что ее дисперсия равна 0.2.\n",
        "Можно ли найти правую границу величины B и ее среднее значение зная, что левая граница равна 0.5?\n",
        "Если да, найдите ее."
      ]
    },
    {
      "cell_type": "code",
      "metadata": {
        "colab": {
          "base_uri": "https://localhost:8080/"
        },
        "id": "nHrij8vp8GKi",
        "outputId": "10bd7b50-5d96-4be2-de06-f5bf91dadc4a"
      },
      "source": [
        "# d = (b-a)**2 / 12 => (b-a)**2 = d*12 => b-a = (d*12)**0.5 => b = a + ((d*12)**0.5)\n",
        "\n",
        "b = 0.5 + ((0.2*12)**(0.5))\n",
        "print(b)\n",
        "\n",
        "m = (b + 0.5)/ 2\n",
        "m"
      ],
      "execution_count": 13,
      "outputs": [
        {
          "output_type": "stream",
          "name": "stdout",
          "text": [
            "2.049193338482967\n"
          ]
        },
        {
          "output_type": "execute_result",
          "data": {
            "text/plain": [
              "1.2745966692414834"
            ]
          },
          "metadata": {},
          "execution_count": 13
        }
      ]
    },
    {
      "cell_type": "markdown",
      "metadata": {
        "id": "PfkppmfI6LVx"
      },
      "source": [
        "3)Непрерывная случайная величина X распределена нормально и задана плотностью распределения\n",
        "\n",
        "f(x) = (1 / (4 * sqrt(2*pi))) * (exp(-(x+2)**2) / 32).\n",
        "Найдите:\n",
        "\n",
        "а). M(X)\n",
        "\n",
        "б). D(X)\n",
        "\n",
        "в). std(X) (среднее квадратичное отклонение)"
      ]
    },
    {
      "cell_type": "markdown",
      "metadata": {
        "id": "fptbIvy5AK1H"
      },
      "source": [
        "M(x) = 2\n",
        "\n",
        "std(x) = 4"
      ]
    },
    {
      "cell_type": "code",
      "metadata": {
        "colab": {
          "base_uri": "https://localhost:8080/"
        },
        "id": "TvsKrkDS9XB4",
        "outputId": "3c278d0c-cc88-4e44-d8f9-69a55af8c68a"
      },
      "source": [
        "d1 = (32/2)\n",
        "print(d1)\n",
        "d2 = 4**2\n",
        "print(d2)"
      ],
      "execution_count": 18,
      "outputs": [
        {
          "output_type": "stream",
          "name": "stdout",
          "text": [
            "16.0\n",
            "16\n"
          ]
        }
      ]
    },
    {
      "cell_type": "markdown",
      "metadata": {
        "id": "39aET_X46Om8"
      },
      "source": [
        "4)Рост взрослого населения города X имеет нормальное распределение.\n",
        "Причем, средний рост равен 174 см, а среднее квадратичное отклонение равно 8 см.\n",
        "Какова вероятность того, что случайным образом выбранный взрослый человек имеет рост:\n",
        "\n",
        "а). больше 182 см\n",
        "\n",
        "b). больше 190 см\n",
        "\n",
        "c). от 166 см до 190 см \n",
        "\n",
        "d). от 166 см до 182 см = 0.68\n",
        "\n",
        "e). от 158 см до 190 см\n",
        "\n",
        "f). не выше 150 см или не ниже 190 см\n",
        "\n",
        "g). не выше 150 см или не ниже 198 см \n",
        "\n",
        "h). ниже 166 см. = 0,16 \n",
        "\n"
      ]
    },
    {
      "cell_type": "code",
      "metadata": {
        "colab": {
          "base_uri": "https://localhost:8080/"
        },
        "id": "JZDtFRbSBw-3",
        "outputId": "f2d6cb28-026a-4f02-fbcc-31c6e5b8439b"
      },
      "source": [
        "  a = 32/2\n",
        "  print(a)\n",
        "  b = 4.6/2\n",
        "  print(b)\n",
        "  c = 68+((95.4-68)/2)\n",
        "  print(c)\n",
        "  d = 68\n",
        "  print(d)\n",
        "  e = 95.4\n",
        "  print(e)\n",
        "  f = 95.4 + ((99.72-95.4)/2)\n",
        "  print(f)\n",
        "  g = 99.72\n",
        "  print(g)\n",
        "  h = a\n",
        "  print(h)"
      ],
      "execution_count": 73,
      "outputs": [
        {
          "output_type": "stream",
          "name": "stdout",
          "text": [
            "16.0\n",
            "2.3\n",
            "81.7\n",
            "68\n",
            "95.4\n",
            "97.56\n",
            "99.72\n",
            "16.0\n"
          ]
        }
      ]
    },
    {
      "cell_type": "markdown",
      "metadata": {
        "id": "M2SasqOP6jMD"
      },
      "source": [
        "5)На сколько сигм (средних квадратичных отклонений) отклоняется рост человека, равный 190 см, от\n",
        "матема\n",
        "тического ожидания роста в популяции, в которой M(X) = 178 см и D(X) = 25 кв.см?"
      ]
    },
    {
      "cell_type": "code",
      "metadata": {
        "colab": {
          "base_uri": "https://localhost:8080/"
        },
        "id": "52k6GoLsCDOI",
        "outputId": "1220d595-f60c-4c1c-afd1-8e5ee80dbb41"
      },
      "source": [
        "s = 25**0.5\n",
        "s\n",
        "a = 190-178\n",
        "a\n",
        "b = a/(2*s)\n",
        "b"
      ],
      "execution_count": 77,
      "outputs": [
        {
          "output_type": "execute_result",
          "data": {
            "text/plain": [
              "1.2"
            ]
          },
          "metadata": {},
          "execution_count": 77
        }
      ]
    },
    {
      "cell_type": "code",
      "metadata": {
        "id": "dGxQhmjbQpcn"
      },
      "source": [
        ""
      ],
      "execution_count": null,
      "outputs": []
    }
  ]
}