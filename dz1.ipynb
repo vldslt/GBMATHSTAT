{
  "nbformat": 4,
  "nbformat_minor": 0,
  "metadata": {
    "colab": {
      "name": "dz1.ipynb",
      "provenance": [],
      "authorship_tag": "ABX9TyPMDTaHhH74tHYgAiTeyEgs",
      "include_colab_link": true
    },
    "kernelspec": {
      "name": "python3",
      "display_name": "Python 3"
    },
    "language_info": {
      "name": "python"
    }
  },
  "cells": [
    {
      "cell_type": "markdown",
      "metadata": {
        "id": "view-in-github",
        "colab_type": "text"
      },
      "source": [
        "<a href=\"https://colab.research.google.com/github/vldslt/GBMATHSTAT/blob/main/dz1.ipynb\" target=\"_parent\"><img src=\"https://colab.research.google.com/assets/colab-badge.svg\" alt=\"Open In Colab\"/></a>"
      ]
    },
    {
      "cell_type": "code",
      "metadata": {
        "id": "Ssf5L8ds0spB"
      },
      "source": [
        "import numpy as np\n",
        "from math import factorial"
      ],
      "execution_count": 1,
      "outputs": []
    },
    {
      "cell_type": "markdown",
      "metadata": {
        "id": "KY_AdHNNrOT1"
      },
      "source": [
        "Из колоды в 52 карты извлекаются случайным образом 4 карты. a) Найти вероятность того, что все карты – крести. б) Найти вероятность, что среди 4-х карт окажется хотя бы один туз.\n"
      ]
    },
    {
      "cell_type": "code",
      "metadata": {
        "id": "QwPVWkZj-SuT"
      },
      "source": [
        "def combinations(n, k):\n",
        "    return int(factorial(n) / (factorial(k) * factorial(n - k)))"
      ],
      "execution_count": 38,
      "outputs": []
    },
    {
      "cell_type": "code",
      "metadata": {
        "colab": {
          "base_uri": "https://localhost:8080/"
        },
        "id": "8AMHcMDu-wmv",
        "outputId": "52d94ce6-883d-4b72-eece-016d79a8aad2"
      },
      "source": [
        "allcombinations = combinations(52, 4)\n",
        "#общее количество сочетаний\n",
        "krver = combinations(13, 4)\n",
        "#вероятность крести\n",
        "allkr = krver/allcombinations\n",
        "print(allkr)"
      ],
      "execution_count": 55,
      "outputs": [
        {
          "output_type": "stream",
          "name": "stdout",
          "text": [
            "0.0026410564225690276\n"
          ]
        }
      ]
    },
    {
      "cell_type": "code",
      "metadata": {
        "id": "ax1pKggy2qtV"
      },
      "source": [
        "в колоде 4 туза, соответственно вероятность достать его 4/52 или 0,0769"
      ],
      "execution_count": null,
      "outputs": []
    },
    {
      "cell_type": "markdown",
      "metadata": {
        "id": "EjEHfrS9rZ9Z"
      },
      "source": [
        "На входной двери подъезда установлен кодовый замок, содержащий десять кнопок с цифрами от 0 до 9. Код содержит три цифры, которые нужно нажать одновременно. Какова вероятность того, что человек, не знающий код, откроет дверь с первой попытки?\n"
      ]
    },
    {
      "cell_type": "code",
      "metadata": {
        "colab": {
          "base_uri": "https://localhost:8080/"
        },
        "id": "I_6p6mzu3g9J",
        "outputId": "0af90f69-ff1f-4808-dcd3-01e2624e8af6"
      },
      "source": [
        "#формула полной вероятности\n",
        "a = 1/3*1/10+1/3*1/10+1/3*1/10\n",
        "print(a)"
      ],
      "execution_count": 16,
      "outputs": [
        {
          "output_type": "stream",
          "name": "stdout",
          "text": [
            "0.1\n"
          ]
        }
      ]
    },
    {
      "cell_type": "markdown",
      "metadata": {
        "id": "4ZJSyig5rfxV"
      },
      "source": [
        "В ящике имеется 15 деталей, из которых 9 окрашены. Рабочий случайным образом извлекает 3 детали. Какова вероятность того, что все извлеченные детали окрашены?\n"
      ]
    },
    {
      "cell_type": "code",
      "metadata": {
        "colab": {
          "base_uri": "https://localhost:8080/"
        },
        "id": "w_x3hwmC3hrz",
        "outputId": "ace191c8-6aba-4ac4-9d83-e651ff5b2c0a"
      },
      "source": [
        "a = 9/15 * 8/14 * 7/13\n",
        "print(a)"
      ],
      "execution_count": 13,
      "outputs": [
        {
          "output_type": "stream",
          "name": "stdout",
          "text": [
            "0.1846153846153846\n"
          ]
        }
      ]
    },
    {
      "cell_type": "markdown",
      "metadata": {
        "id": "giuiGl5NriJ3"
      },
      "source": [
        "В лотерее 100 билетов. Из них 2 выигрышных. Какова вероятность того, что 2 приобретенных билета окажутся выигрышными?\n"
      ]
    },
    {
      "cell_type": "code",
      "metadata": {
        "colab": {
          "base_uri": "https://localhost:8080/"
        },
        "id": "q75oJUER3iXt",
        "outputId": "b744f85d-a90a-4ffb-a52c-38075e30594c"
      },
      "source": [
        "a = 1/100 * 1/99\n",
        "print(a)"
      ],
      "execution_count": 12,
      "outputs": [
        {
          "output_type": "stream",
          "name": "stdout",
          "text": [
            "0.00010101010101010101\n"
          ]
        }
      ]
    },
    {
      "cell_type": "code",
      "metadata": {
        "id": "do90DxONABiB"
      },
      "source": [
        ""
      ],
      "execution_count": null,
      "outputs": []
    }
  ]
}