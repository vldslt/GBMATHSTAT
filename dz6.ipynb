{
  "nbformat": 4,
  "nbformat_minor": 0,
  "metadata": {
    "colab": {
      "name": "dz6.ipynb",
      "provenance": [],
      "authorship_tag": "ABX9TyMef75+TgaX7tkb3VEMV0ek",
      "include_colab_link": true
    },
    "kernelspec": {
      "name": "python3",
      "display_name": "Python 3"
    },
    "language_info": {
      "name": "python"
    }
  },
  "cells": [
    {
      "cell_type": "markdown",
      "metadata": {
        "id": "view-in-github",
        "colab_type": "text"
      },
      "source": [
        "<a href=\"https://colab.research.google.com/github/vldslt/GBMATHSTAT/blob/main/dz6.ipynb\" target=\"_parent\"><img src=\"https://colab.research.google.com/assets/colab-badge.svg\" alt=\"Open In Colab\"/></a>"
      ]
    },
    {
      "cell_type": "code",
      "metadata": {
        "id": "KIbAyBUVFFQw"
      },
      "source": [
        "import numpy as np\n",
        "import pandas as pd\n",
        "from scipy.stats.stats import pearsonr"
      ],
      "execution_count": 20,
      "outputs": []
    },
    {
      "cell_type": "markdown",
      "metadata": {
        "id": "G1atZGIzDkGZ"
      },
      "source": [
        "1)Даны значения величины заработной платы заемщиков банка (zp) и значения их поведенческого кредитного скоринга (ks):\n",
        "zp = [35, 45, 190, 200, 40, 70, 54, 150, 120, 110],\n",
        "ks = [401, 574, 874, 919, 459, 739, 653, 902, 746, 832].\n",
        "Найдите ковариацию этих двух величин с помощью элементарных действий, а затем с помощью функции cov из numpy\n",
        "Полученные значения должны быть равны.\n",
        "Найдите коэффициент корреляции Пирсона с помощью ковариации и среднеквадратичных отклонений двух признаков,\n",
        "а затем с использованием функций из библиотек numpy и pandas."
      ]
    },
    {
      "cell_type": "code",
      "metadata": {
        "colab": {
          "base_uri": "https://localhost:8080/"
        },
        "id": "beTmuphZDtnB",
        "outputId": "0643a728-eca5-43b3-866f-238d05907ff0"
      },
      "source": [
        "zp = np.array([35, 45, 190, 200, 40, 70, 54, 150, 120, 110])\n",
        "ks = np.array([401, 574, 874, 919, 459, 739, 653, 902, 746, 832])\n",
        "cov = np.mean(zp*ks) - np.mean(zp) * np.mean(ks)\n",
        "print(cov)\n",
        "print(np.cov(zp,ks,ddof=0))\n"
      ],
      "execution_count": 6,
      "outputs": [
        {
          "output_type": "stream",
          "name": "stdout",
          "text": [
            "9157.839999999997\n",
            "[[ 3494.64  9157.84]\n",
            " [ 9157.84 30468.89]]\n"
          ]
        }
      ]
    },
    {
      "cell_type": "code",
      "metadata": {
        "colab": {
          "base_uri": "https://localhost:8080/"
        },
        "id": "tctBT7RqGyAw",
        "outputId": "1565f1e7-c11e-4999-cb6e-583352ed74be"
      },
      "source": [
        "szp = np.std(zp,ddof=0)\n",
        "szp"
      ],
      "execution_count": 11,
      "outputs": [
        {
          "output_type": "execute_result",
          "data": {
            "text/plain": [
              "59.115480206118605"
            ]
          },
          "metadata": {},
          "execution_count": 11
        }
      ]
    },
    {
      "cell_type": "code",
      "metadata": {
        "colab": {
          "base_uri": "https://localhost:8080/"
        },
        "id": "AkKkCHeoG7st",
        "outputId": "481e5f3f-40ef-4fc3-9f41-d2db431a3bf8"
      },
      "source": [
        "sks = np.std(ks,ddof=0)\n",
        "sks"
      ],
      "execution_count": 12,
      "outputs": [
        {
          "output_type": "execute_result",
          "data": {
            "text/plain": [
              "174.55340157098058"
            ]
          },
          "metadata": {},
          "execution_count": 12
        }
      ]
    },
    {
      "cell_type": "code",
      "metadata": {
        "colab": {
          "base_uri": "https://localhost:8080/"
        },
        "id": "fJ77uHhfHUQi",
        "outputId": "5ef603fb-da6f-4741-f4c4-929303861d11"
      },
      "source": [
        "r = cov / (szp*sks)\n",
        "r"
      ],
      "execution_count": 14,
      "outputs": [
        {
          "output_type": "execute_result",
          "data": {
            "text/plain": [
              "0.8874900920739158"
            ]
          },
          "metadata": {},
          "execution_count": 14
        }
      ]
    },
    {
      "cell_type": "code",
      "metadata": {
        "colab": {
          "base_uri": "https://localhost:8080/"
        },
        "id": "P-wICQK8HcGi",
        "outputId": "096907ea-da82-4c63-cc2d-592a6f7c11a1"
      },
      "source": [
        "print(pearsonr(zp, ks))\n",
        "print(np.corrcoef(zp, ks))"
      ],
      "execution_count": 19,
      "outputs": [
        {
          "output_type": "stream",
          "name": "stdout",
          "text": [
            "(0.8874900920739164, 0.0006107546587257491)\n",
            "[[1.         0.88749009]\n",
            " [0.88749009 1.        ]]\n"
          ]
        }
      ]
    },
    {
      "cell_type": "markdown",
      "metadata": {
        "id": "QhQGtJ2ADt2i"
      },
      "source": [
        "2)Измерены значения IQ выборки студентов,\n",
        "обучающихся в местных технических вузах:\n",
        "131, 125, 115, 122, 131, 115, 107, 99, 125, 111.\n",
        "Известно, что в генеральной совокупности IQ распределен нормально.\n",
        "Найдите доверительный интервал для математического ожидания с надежностью 0.95."
      ]
    },
    {
      "cell_type": "code",
      "metadata": {
        "id": "LQIP-km2G617"
      },
      "source": [
        "iq = np.array([131, 125, 115, 122, 131, 115, 107, 99, 125, 111])\n",
        "p = 0.95\n",
        "n = 10\n",
        "# t = n-1 = 9; 0.95 => 2.262\n",
        "t = 2.262\n",
        "s = np.std(iq,ddof=0)\n"
      ],
      "execution_count": 39,
      "outputs": []
    },
    {
      "cell_type": "code",
      "metadata": {
        "id": "nVuEM9SiOGp2"
      },
      "source": [
        "mu = np.mean(iq)"
      ],
      "execution_count": 41,
      "outputs": []
    },
    {
      "cell_type": "code",
      "metadata": {
        "colab": {
          "base_uri": "https://localhost:8080/"
        },
        "id": "jRzlXLHLPEUc",
        "outputId": "ec74a754-f846-453f-fde3-f646171d2b0b"
      },
      "source": [
        "x1 = mu - (2.262*s)/n**0.5\n",
        "x2 = mu + (2.262*s)/n**0.5\n",
        "print(x1,x2)"
      ],
      "execution_count": 42,
      "outputs": [
        {
          "output_type": "stream",
          "name": "stdout",
          "text": [
            "110.94370977419166 125.25629022580833\n"
          ]
        }
      ]
    },
    {
      "cell_type": "markdown",
      "metadata": {
        "id": "H3sXyeT3DxSd"
      },
      "source": [
        "3)Известно, что рост футболистов в сборной распределен нормально\n",
        "с дисперсией генеральной совокупности, равной 25 кв.см. Объем выборки равен 27,\n",
        "среднее выборочное составляет 174.2. Найдите доверительный интервал для математического\n",
        "ожидания с надежностью 0.95."
      ]
    },
    {
      "cell_type": "code",
      "metadata": {
        "id": "Sbzz0qhzD7si"
      },
      "source": [
        "si = 25\n",
        "n = 27\n",
        "x = 174.2\n",
        "p = 0.95"
      ],
      "execution_count": 25,
      "outputs": []
    },
    {
      "cell_type": "code",
      "metadata": {
        "colab": {
          "base_uri": "https://localhost:8080/"
        },
        "id": "WK8AEmOIKJzo",
        "outputId": "75986b2b-3e29-4d06-83f9-d8dfedbd91d4"
      },
      "source": [
        "# x-(t*si)/n**0.5 < a < x+(t*si)/n**0.5\n",
        "# t = n-1 = 26; 0.95 => 2.059\n",
        "t = 2.059\n",
        "delx = t*(si/n**0.5)\n",
        "print(delx)\n",
        "\n",
        "x1 = x - delx\n",
        "x2 = x + delx\n",
        "print(x1,x2)"
      ],
      "execution_count": 28,
      "outputs": [
        {
          "output_type": "stream",
          "name": "stdout",
          "text": [
            "9.906368368845328\n",
            "164.29363163115465 184.10636836884532\n"
          ]
        }
      ]
    },
    {
      "cell_type": "code",
      "metadata": {
        "id": "Nc9QVuE1KewO"
      },
      "source": [
        ""
      ],
      "execution_count": null,
      "outputs": []
    }
  ]
}