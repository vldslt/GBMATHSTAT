{
  "nbformat": 4,
  "nbformat_minor": 0,
  "metadata": {
    "colab": {
      "name": "dz8.ipynb",
      "provenance": [],
      "authorship_tag": "ABX9TyPjACa1AmangEYoO5fQaIUV",
      "include_colab_link": true
    },
    "kernelspec": {
      "name": "python3",
      "display_name": "Python 3"
    },
    "language_info": {
      "name": "python"
    }
  },
  "cells": [
    {
      "cell_type": "markdown",
      "metadata": {
        "id": "view-in-github",
        "colab_type": "text"
      },
      "source": [
        "<a href=\"https://colab.research.google.com/github/vldslt/GBMATHSTAT/blob/main/dz8.ipynb\" target=\"_parent\"><img src=\"https://colab.research.google.com/assets/colab-badge.svg\" alt=\"Open In Colab\"/></a>"
      ]
    },
    {
      "cell_type": "code",
      "metadata": {
        "id": "v7_aK0QGtLpI"
      },
      "source": [
        "import numpy as np\n",
        "import matplotlib.pyplot as plt"
      ],
      "execution_count": 25,
      "outputs": []
    },
    {
      "cell_type": "markdown",
      "metadata": {
        "id": "nGRKLtwjtPjS"
      },
      "source": [
        "Провести дисперсионный анализ для определения того, есть ли различия среднего роста среди взрослых футболистов, хоккеистов и штангистов. Даны значения роста в трех группах случайно выбранных спортсменов: Футболисты: 173, 175, 180, 178, 177, 185, 183, 182. Хоккеисты: 177, 179, 180, 188, 177, 172, 171, 184, 180. Штангисты: 172, 173, 169, 177, 166, 180, 178, 177, 172, 166, 170."
      ]
    },
    {
      "cell_type": "code",
      "metadata": {
        "id": "FvQseDRwtWeL"
      },
      "source": [
        "footb = np.array([173, 175, 180, 178, 177, 185, 183], dtype=np.float64)\n",
        "hok = np.array([177, 179, 180, 188, 177, 172, 171, 184, 180], dtype=np.float64)\n",
        "gym = np.array([172, 173, 169, 177, 166, 180, 178, 177, 172, 166, 170], dtype=np.float64)\n"
      ],
      "execution_count": 2,
      "outputs": []
    },
    {
      "cell_type": "code",
      "metadata": {
        "colab": {
          "base_uri": "https://localhost:8080/"
        },
        "id": "x2l84VA_tuRa",
        "outputId": "dfd759e6-6998-4610-f9c2-6c482edb137b"
      },
      "source": [
        "# H0 = m1=m2=m3\n",
        "# H1 = m1!=m2!=m3\n",
        "\n",
        "n1 = 7\n",
        "n2 = 9\n",
        "n3 = 10\n",
        "n = n1 + n2 + n3\n",
        "print(n)\n",
        "k ="
      ],
      "execution_count": 6,
      "outputs": [
        {
          "output_type": "stream",
          "name": "stdout",
          "text": [
            "26\n"
          ]
        }
      ]
    },
    {
      "cell_type": "code",
      "metadata": {
        "colab": {
          "base_uri": "https://localhost:8080/"
        },
        "id": "71bZYitot0sX",
        "outputId": "3c1d1b12-95c4-4d0e-b45c-a4fe9e9958d2"
      },
      "source": [
        "footb_mean = np.mean(footb)\n",
        "print(footb_mean)\n",
        "hok_mean = np.mean(hok)\n",
        "print(hok_mean)\n",
        "gym_mean = np.mean(gym)\n",
        "print(gym_mean)"
      ],
      "execution_count": 9,
      "outputs": [
        {
          "output_type": "stream",
          "name": "stdout",
          "text": [
            "178.71428571428572\n",
            "178.66666666666666\n",
            "172.72727272727272\n"
          ]
        }
      ]
    },
    {
      "cell_type": "code",
      "metadata": {
        "colab": {
          "base_uri": "https://localhost:8080/"
        },
        "id": "MVNTZRNOuugG",
        "outputId": "bb498fc2-2974-47e9-fe32-a9c8b7831da6"
      },
      "source": [
        "hei_all = np.concatenate([footb, hok, gym])\n",
        "hei_all"
      ],
      "execution_count": 10,
      "outputs": [
        {
          "output_type": "execute_result",
          "data": {
            "text/plain": [
              "array([173., 175., 180., 178., 177., 185., 183., 177., 179., 180., 188.,\n",
              "       177., 172., 171., 184., 180., 172., 173., 169., 177., 166., 180.,\n",
              "       178., 177., 172., 166., 170.])"
            ]
          },
          "metadata": {},
          "execution_count": 10
        }
      ]
    },
    {
      "cell_type": "code",
      "metadata": {
        "colab": {
          "base_uri": "https://localhost:8080/"
        },
        "id": "DJvPEhn8vTtp",
        "outputId": "c1483e02-333b-41bb-c919-e6190c0e038a"
      },
      "source": [
        "hei_all_mean = np.mean(hei_all)\n",
        "hei_all_mean"
      ],
      "execution_count": 11,
      "outputs": [
        {
          "output_type": "execute_result",
          "data": {
            "text/plain": [
              "176.25925925925927"
            ]
          },
          "metadata": {},
          "execution_count": 11
        }
      ]
    },
    {
      "cell_type": "code",
      "metadata": {
        "colab": {
          "base_uri": "https://localhost:8080/"
        },
        "id": "-XELSHDXvpnR",
        "outputId": "2a6b5a58-440d-445b-c27c-a9d30c36c8fb"
      },
      "source": [
        "s2 = np.sum((hei_all - hei_all_mean)**2)\n",
        "s2"
      ],
      "execution_count": 12,
      "outputs": [
        {
          "output_type": "execute_result",
          "data": {
            "text/plain": [
              "799.1851851851851"
            ]
          },
          "metadata": {},
          "execution_count": 12
        }
      ]
    },
    {
      "cell_type": "code",
      "metadata": {
        "colab": {
          "base_uri": "https://localhost:8080/"
        },
        "id": "skVL6fFjv40H",
        "outputId": "2bd44af8-47f6-429b-e295-7f36a77ea292"
      },
      "source": [
        "s2_f = ((footb_mean - hei_all_mean)**2) * n1 + ((hok_mean - hei_all_mean)**2) * n2 + ((gym_mean - hei_all_mean)**2) * n3\n",
        "s2_f"
      ],
      "execution_count": 13,
      "outputs": [
        {
          "output_type": "execute_result",
          "data": {
            "text/plain": [
              "219.0998667126617"
            ]
          },
          "metadata": {},
          "execution_count": 13
        }
      ]
    },
    {
      "cell_type": "code",
      "metadata": {
        "colab": {
          "base_uri": "https://localhost:8080/"
        },
        "id": "iifjSF3awY9t",
        "outputId": "595155de-0a9e-4a34-b707-e9fd99e06243"
      },
      "source": [
        "s2_res = s2 - s2_f\n",
        "s2_res"
      ],
      "execution_count": 16,
      "outputs": [
        {
          "output_type": "execute_result",
          "data": {
            "text/plain": [
              "580.0853184725233"
            ]
          },
          "metadata": {},
          "execution_count": 16
        }
      ]
    },
    {
      "cell_type": "code",
      "metadata": {
        "colab": {
          "base_uri": "https://localhost:8080/"
        },
        "id": "y1WdiRrcy_gm",
        "outputId": "cffde093-9623-4c83-9881-0afd19d4a6ba"
      },
      "source": [
        "sigma2_general = s2 / (n - 1)\n",
        "sigma2_general"
      ],
      "execution_count": 17,
      "outputs": [
        {
          "output_type": "execute_result",
          "data": {
            "text/plain": [
              "31.967407407407403"
            ]
          },
          "metadata": {},
          "execution_count": 17
        }
      ]
    },
    {
      "cell_type": "code",
      "metadata": {
        "colab": {
          "base_uri": "https://localhost:8080/"
        },
        "id": "SLdhg3vjzIiZ",
        "outputId": "c4582849-9c18-4dd5-bb7f-95434cda92dc"
      },
      "source": [
        "sigma2_f = s2_f / (k - 1)\n",
        "sigma2_f"
      ],
      "execution_count": 18,
      "outputs": [
        {
          "output_type": "execute_result",
          "data": {
            "text/plain": [
              "109.54993335633085"
            ]
          },
          "metadata": {},
          "execution_count": 18
        }
      ]
    },
    {
      "cell_type": "code",
      "metadata": {
        "colab": {
          "base_uri": "https://localhost:8080/"
        },
        "id": "xjKyia0dzMFl",
        "outputId": "d8688fa3-1902-483f-9752-aea9f68698ab"
      },
      "source": [
        "sigma2_res = s2_res / (n - k)\n",
        "sigma2_res"
      ],
      "execution_count": 20,
      "outputs": [
        {
          "output_type": "execute_result",
          "data": {
            "text/plain": [
              "25.22110080315319"
            ]
          },
          "metadata": {},
          "execution_count": 20
        }
      ]
    },
    {
      "cell_type": "code",
      "metadata": {
        "colab": {
          "base_uri": "https://localhost:8080/"
        },
        "id": "57d7VpFczOGw",
        "outputId": "f67928c1-c8f7-41a1-b4fc-27f259a84613"
      },
      "source": [
        "F_h = sigma2_f / sigma2_res\n",
        "F_h"
      ],
      "execution_count": 21,
      "outputs": [
        {
          "output_type": "execute_result",
          "data": {
            "text/plain": [
              "4.3435825506329495"
            ]
          },
          "metadata": {},
          "execution_count": 21
        }
      ]
    },
    {
      "cell_type": "code",
      "metadata": {
        "colab": {
          "base_uri": "https://localhost:8080/"
        },
        "id": "K65mDwOFzYiV",
        "outputId": "5ceeb94c-3bc6-4757-ead7-178befce271b"
      },
      "source": [
        "F_t = 3.39\n",
        "# F_h > F_t =>различие среднего роста в трех группах статистически значимо => различия среднего роста относительно вида спорта имеется\n",
        "eta2 = s2_f / s2\n",
        "eta2\n",
        "# Значение не близко 0 — значит,  различие среднего роста в трех группах является статистически значимым, но не зависят друг от друга\n",
        "\n"
      ],
      "execution_count": 24,
      "outputs": [
        {
          "output_type": "execute_result",
          "data": {
            "text/plain": [
              "0.2741540643823277"
            ]
          },
          "metadata": {},
          "execution_count": 24
        }
      ]
    },
    {
      "cell_type": "code",
      "metadata": {
        "id": "h9YGZedj1mnZ"
      },
      "source": [
        ""
      ],
      "execution_count": null,
      "outputs": []
    }
  ]
}