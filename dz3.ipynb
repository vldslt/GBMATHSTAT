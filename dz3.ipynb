{
  "nbformat": 4,
  "nbformat_minor": 0,
  "metadata": {
    "colab": {
      "name": "dz3.ipynb",
      "provenance": [],
      "authorship_tag": "ABX9TyN0X/0TMuq93pvEaArLw908",
      "include_colab_link": true
    },
    "kernelspec": {
      "name": "python3",
      "display_name": "Python 3"
    },
    "language_info": {
      "name": "python"
    }
  },
  "cells": [
    {
      "cell_type": "markdown",
      "metadata": {
        "id": "view-in-github",
        "colab_type": "text"
      },
      "source": [
        "<a href=\"https://colab.research.google.com/github/vldslt/GBMATHSTAT/blob/main/dz3.ipynb\" target=\"_parent\"><img src=\"https://colab.research.google.com/assets/colab-badge.svg\" alt=\"Open In Colab\"/></a>"
      ]
    },
    {
      "cell_type": "code",
      "metadata": {
        "id": "Q1wTHTz9Blji"
      },
      "source": [
        "import numpy as np\n",
        "import pandas as pd"
      ],
      "execution_count": 17,
      "outputs": []
    },
    {
      "cell_type": "markdown",
      "metadata": {
        "id": "yf3j9gN-8hfQ"
      },
      "source": [
        "1)Даны значения зарплат из выборки выпускников: 100, 80, 75, 77, 89, 33, 45, 25, 65, 17, 30, 24, 57, 55, 70, 75, 65, 84, 90, 150. Посчитать (желательно без использования статистических методов наподобие std, var, mean) среднее арифметическое, среднее квадратичное отклонение, смещенную и несмещенную оценки дисперсий для данной выборки."
      ]
    },
    {
      "cell_type": "code",
      "metadata": {
        "id": "r6neCMVSQuj6"
      },
      "source": [
        "def variance_salary1(salary):\n",
        "    if len(salary) > 0:\n",
        "        variance_salary_1 = ((salary - salary.mean()) ** 2).sum() / len(salary)\n",
        "        variance_salary_2 = salary.var(ddof=0)\n",
        "        print(f'Cмещенная оценка дисперсии  {variance_salary_1} (проверка {variance_salary_2})')\n",
        "\n",
        "def variance_salary2(salary):\n",
        "    if len(salary) > 0:\n",
        "        variance_salary2_1 = ((salary - salary.mean()) ** 2).sum() / (len(salary) - 1)\n",
        "        variance_salary2_2 = salary.var(ddof=1)\n",
        "        print(f'Несмещенная оценка дисперсии  {variance_salary2_1} (проверка {variance_salary2_2})')"
      ],
      "execution_count": 27,
      "outputs": []
    },
    {
      "cell_type": "code",
      "metadata": {
        "colab": {
          "base_uri": "https://localhost:8080/"
        },
        "id": "AcaRUP0w9bUn",
        "outputId": "0e3ba0a9-2c21-4858-b086-b1963ee85384"
      },
      "source": [
        "nums = np.array([100, 80, 75, 77, 89, 33, 45, 25, 65, 17, 30, 24, 57, 55, 70, 75, 65, 84, 90, 150])\n",
        "print(sum(nums) / len(nums)) #среднее арифметическое\n",
        "sko = np.std(nums)\n",
        "print(sko) #среднее квадратичное отклонение\n",
        "variance_salary1(nums)\n",
        "variance_salary2(nums)"
      ],
      "execution_count": 30,
      "outputs": [
        {
          "output_type": "stream",
          "name": "stdout",
          "text": [
            "65.3\n",
            "30.823854398825596\n",
            "Cмещенная оценка дисперсии  950.11 (проверка 950.11)\n",
            "Несмещенная оценка дисперсии  1000.1157894736842 (проверка 1000.1157894736842)\n"
          ]
        }
      ]
    },
    {
      "cell_type": "markdown",
      "metadata": {
        "id": "rxeOXqPD8jSd"
      },
      "source": [
        "2)В первом ящике находится 8 мячей, из которых 5 - белые. Во втором ящике - 12 мячей, из которых 5 белых. Из первого ящика вытаскивают случайным образом два мяча, из второго - 4. Какова вероятность того, что 3 мяча белые?"
      ]
    },
    {
      "cell_type": "markdown",
      "metadata": {
        "id": "mkrchuNF8l1n"
      },
      "source": [
        "3)На соревновании по биатлону один из трех спортсменов стреляет и попадает в мишень. Вероятность попадания для первого спортсмена равна 0.9, для второго — 0.8, для третьего — 0.6. Найти вероятность того, что выстрел произведен: a). первым спортсменом б). вторым спортсменом в). третьим спортсменом."
      ]
    },
    {
      "cell_type": "code",
      "metadata": {
        "colab": {
          "base_uri": "https://localhost:8080/"
        },
        "id": "RbiD55_uVB0T",
        "outputId": "03a95788-a66f-4d9d-dcae-92d62ab02535"
      },
      "source": [
        "ver1 = 0.9\n",
        "ver2 = 0.8\n",
        "ver3 = 0.6\n",
        "no1 = 0.1\n",
        "no2 = 0.2\n",
        "no3 = 0.4\n",
        "a = 0.9*0.2*0.4\n",
        "print(a)\n",
        "b = 0.1*0.8*0.4\n",
        "print(b)\n",
        "c = 0.1*0.2*0.6\n",
        "print(c)"
      ],
      "execution_count": 37,
      "outputs": [
        {
          "output_type": "stream",
          "name": "stdout",
          "text": [
            "0.07200000000000001\n",
            "0.03200000000000001\n",
            "0.012000000000000002\n"
          ]
        }
      ]
    },
    {
      "cell_type": "markdown",
      "metadata": {
        "id": "_HlY5OIt8puW"
      },
      "source": [
        "4)В университет на факультеты A и B поступило равное количество студентов, а на факультет C студентов поступило столько же, сколько на A и B вместе. Вероятность того, что студент факультета A сдаст первую сессию, равна 0.8. Для студента факультета B эта вероятность равна 0.7, а для студента факультета C - 0.9. Студент сдал первую сессию. Какова вероятность, что он учится: a). на факультете A б). на факультете B в). на факультете C?"
      ]
    },
    {
      "cell_type": "code",
      "metadata": {
        "colab": {
          "base_uri": "https://localhost:8080/"
        },
        "id": "yGlc8QR-Rjq5",
        "outputId": "d2b8526a-14ab-4594-f05b-4aa44bde4862"
      },
      "source": [
        "P = 0.25 * 0.8 + 0.25 * 0.7 + 0.5 * 0.9\n",
        "P #вероятность того,что сдадут все"
      ],
      "execution_count": 31,
      "outputs": [
        {
          "output_type": "execute_result",
          "data": {
            "text/plain": [
              "0.825"
            ]
          },
          "metadata": {},
          "execution_count": 31
        }
      ]
    },
    {
      "cell_type": "code",
      "metadata": {
        "colab": {
          "base_uri": "https://localhost:8080/"
        },
        "id": "KaSiEIuMRxSH",
        "outputId": "4f1b03c8-69da-4c29-917b-61f360015c45"
      },
      "source": [
        "P_H1 = 0.8 * 0.25 / 0.825\n",
        "print(f'Вероятность, что студент учится на факультете A: {P_H1}')\n",
        "P_H2 = 0.25 * 0.7 / 0.825\n",
        "print(f'Вероятность, что студент учится на факультете B: {P_H2}')\n",
        "P_H3 = 0.5 * 0.9 / 0.825\n",
        "print(f'Вероятность, что студент учится на факультете C: {P_H3}')"
      ],
      "execution_count": 32,
      "outputs": [
        {
          "output_type": "stream",
          "name": "stdout",
          "text": [
            "Вероятность, что студент учится на факультете A: 0.24242424242424246\n",
            "Вероятность, что студент учится на факультете B: 0.21212121212121213\n",
            "Вероятность, что студент учится на факультете C: 0.5454545454545455\n"
          ]
        }
      ]
    },
    {
      "cell_type": "markdown",
      "metadata": {
        "id": "RmLE37RG8z6J"
      },
      "source": [
        "5)Устройство состоит из трех деталей. Для первой детали вероятность выйти из строя в первый месяц равна 0.1, для второй - 0.2, для третьей - 0.25. Какова вероятность того, что в первый месяц выйдут из строя: а). все детали б). только две детали в). хотя бы одна деталь г). от одной до двух деталей?"
      ]
    },
    {
      "cell_type": "markdown",
      "metadata": {
        "id": "y_HFCt7vLonz"
      },
      "source": [
        "a)p1* p2 *p3\n",
        "\n",
        "\n",
        "б)p1* p2* (1-p3)+p1* (1-p2)* p3+(1-p1)* p2* p3=p1* p2+p1* p3+p2* p3-3* p1* p2* p3"
      ]
    },
    {
      "cell_type": "code",
      "metadata": {
        "colab": {
          "base_uri": "https://localhost:8080/"
        },
        "id": "1C9f1J83Ny4X",
        "outputId": "62a56db8-1485-4d80-a285-90d1b01db274"
      },
      "source": [
        "a = 0.1*0.2*0.25\n",
        "print(a)\n",
        "b = 0.1*0.2+0.1*0.25+0.2*0.25-3*0.1*0.2*0.25\n",
        "print(b)\n"
      ],
      "execution_count": 26,
      "outputs": [
        {
          "output_type": "stream",
          "name": "stdout",
          "text": [
            "0.005000000000000001\n",
            "0.08\n"
          ]
        }
      ]
    }
  ]
}