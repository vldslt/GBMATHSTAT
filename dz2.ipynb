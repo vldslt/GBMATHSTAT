{
  "nbformat": 4,
  "nbformat_minor": 0,
  "metadata": {
    "colab": {
      "name": "dz2.ipynb",
      "provenance": [],
      "authorship_tag": "ABX9TyMFCTZQ7OkQqvFQ7gUq4Gqp",
      "include_colab_link": true
    },
    "kernelspec": {
      "name": "python3",
      "display_name": "Python 3"
    },
    "language_info": {
      "name": "python"
    }
  },
  "cells": [
    {
      "cell_type": "markdown",
      "metadata": {
        "id": "view-in-github",
        "colab_type": "text"
      },
      "source": [
        "<a href=\"https://colab.research.google.com/github/vldslt/GBMATHSTAT/blob/main/dz2.ipynb\" target=\"_parent\"><img src=\"https://colab.research.google.com/assets/colab-badge.svg\" alt=\"Open In Colab\"/></a>"
      ]
    },
    {
      "cell_type": "code",
      "metadata": {
        "id": "pssOJzL3uJoS"
      },
      "source": [
        "import numpy as np\n",
        "from math import factorial\n",
        "def combinations(n, k):\n",
        "    return int(factorial(n) / (factorial(k) * factorial(n - k)))"
      ],
      "execution_count": 1,
      "outputs": []
    },
    {
      "cell_type": "markdown",
      "metadata": {
        "id": "2iQFcB86t9JX"
      },
      "source": [
        "1)Вероятность того, что стрелок попадет в мишень, выстрелив один раз, равна 0.8. Стрелок выстрелил 100 раз. Найдите вероятность того, что стрелок попадет в цель ровно 85 раз."
      ]
    },
    {
      "cell_type": "code",
      "metadata": {
        "colab": {
          "base_uri": "https://localhost:8080/"
        },
        "id": "EvfGxLCP0OKz",
        "outputId": "aacef3b7-8161-45f2-a6d6-e4be1d6b2535"
      },
      "source": [
        "c = combinations(100, 85)\n",
        "print (c)\n",
        "ver = c*0.8**85*0.2**15\n",
        "print(ver)"
      ],
      "execution_count": 18,
      "outputs": [
        {
          "output_type": "stream",
          "name": "stdout",
          "text": [
            "253338471349988640\n",
            "0.048061793700746556\n"
          ]
        }
      ]
    },
    {
      "cell_type": "markdown",
      "metadata": {
        "id": "Vi0My4wlt-Jp"
      },
      "source": [
        "Вероятность того, что лампочка перегорит в течение первого дня эксплуатации, равна 0.0004. В жилом комплексе после ремонта в один день включили 5000 новых лампочек. Какова вероятность, что ни одна из них не перегорит в первый день? Какова вероятность, что перегорят ровно две?"
      ]
    },
    {
      "cell_type": "code",
      "metadata": {
        "colab": {
          "base_uri": "https://localhost:8080/"
        },
        "id": "Rfo4iPm_2A6J",
        "outputId": "1f50da4f-f7db-4745-a900-ff940ed46806"
      },
      "source": [
        "n = 5000\n",
        "m = 0\n",
        "p = 0.0004\n",
        "lambda_ = n * p\n",
        "\n",
        "(lambda_**m / np.math.factorial(m)) * np.exp(-lambda_)"
      ],
      "execution_count": 20,
      "outputs": [
        {
          "output_type": "execute_result",
          "data": {
            "text/plain": [
              "0.1353352832366127"
            ]
          },
          "metadata": {},
          "execution_count": 20
        }
      ]
    },
    {
      "cell_type": "code",
      "metadata": {
        "colab": {
          "base_uri": "https://localhost:8080/"
        },
        "id": "4Gbh-cCl1JZ0",
        "outputId": "61ac7b09-95c3-411f-e72c-c2e496a25065"
      },
      "source": [
        "n = 5000\n",
        "m = 2\n",
        "p = 0.0004\n",
        "lambda_ = n * p\n",
        "\n",
        "(lambda_**m / np.math.factorial(m)) * np.exp(-lambda_)"
      ],
      "execution_count": 19,
      "outputs": [
        {
          "output_type": "execute_result",
          "data": {
            "text/plain": [
              "0.2706705664732254"
            ]
          },
          "metadata": {},
          "execution_count": 19
        }
      ]
    },
    {
      "cell_type": "markdown",
      "metadata": {
        "id": "RwUj-f9UuBX_"
      },
      "source": [
        "Монету подбросили 144 раза. Какова вероятность, что орел выпадет ровно 70 раз?"
      ]
    },
    {
      "cell_type": "code",
      "metadata": {
        "colab": {
          "base_uri": "https://localhost:8080/"
        },
        "id": "C1ZFJF_32N0V",
        "outputId": "946aa2c0-eafd-41a1-ed02-27d38c1a59df"
      },
      "source": [
        "c = combinations(144, 70)\n",
        "ver = c*0.5**70*0.5**74\n",
        "print(ver)\n",
        "#первое решение"
      ],
      "execution_count": 38,
      "outputs": [
        {
          "output_type": "stream",
          "name": "stdout",
          "text": [
            "0.06281178035144776\n"
          ]
        }
      ]
    },
    {
      "cell_type": "code",
      "metadata": {
        "colab": {
          "base_uri": "https://localhost:8080/"
        },
        "id": "3cQnpgrX9Xkr",
        "outputId": "eeef6217-2e13-4b95-da4b-1cd667263f00"
      },
      "source": [
        "n = 144\n",
        "k = 5\n",
        "p = 1/2\n",
        "X = combinations(n, k) * (p ** k) * (1 - p) ** (n - k)\n",
        "X\n",
        "#это похоже на правильное решение, но мне почему-то не нравится оно"
      ],
      "execution_count": 39,
      "outputs": [
        {
          "output_type": "execute_result",
          "data": {
            "text/plain": [
              "2.1569168371633305e-35"
            ]
          },
          "metadata": {},
          "execution_count": 39
        }
      ]
    },
    {
      "cell_type": "markdown",
      "metadata": {
        "id": "mVGdbKxfuEuc"
      },
      "source": [
        "В первом ящике находится 10 мячей, из которых 7 - белые. Во втором ящике - 11 мячей, из которых 9 белых. Из каждого ящика вытаскивают случайным образом по два мяча. Какова вероятность того, что все мячи белые? Какова вероятность того, что ровно два мяча белые? Какова вероятность того, что хотя бы один мяч белый?"
      ]
    },
    {
      "cell_type": "code",
      "metadata": {
        "colab": {
          "base_uri": "https://localhost:8080/"
        },
        "id": "NROLIj773A-H",
        "outputId": "90aec2f4-87e0-4e6d-bb67-0b99387bf24d"
      },
      "source": [
        "ver1 = 7/10 * 6/9\n",
        "ver2 = 9/11 * 8/10\n",
        "allwhite = ver1 * ver2\n",
        "print(allwhite)"
      ],
      "execution_count": 26,
      "outputs": [
        {
          "output_type": "stream",
          "name": "stdout",
          "text": [
            "0.30545454545454537\n"
          ]
        }
      ]
    },
    {
      "cell_type": "markdown",
      "metadata": {
        "id": "JjpQrV1G560Z"
      },
      "source": [
        "второй не решил"
      ]
    },
    {
      "cell_type": "code",
      "metadata": {
        "colab": {
          "base_uri": "https://localhost:8080/"
        },
        "id": "Y6_UDHfh58sM",
        "outputId": "73a85ce4-43a4-4f9e-f317-459827b07d8f"
      },
      "source": [
        "c1 = combinations(3,2)\n",
        "c2 = combinations(10,2)\n",
        "a1 = c1/c2\n",
        "c3 = combinations(3,2)\n",
        "c4 = combinations(11,2)\n",
        "a2= c3/c4\n",
        "allblack = a1*a2\n",
        "print(allblack) \n",
        "#все чёрные\n",
        "\n",
        "onewhite = 1 - allblack\n",
        "print(onewhite)"
      ],
      "execution_count": 37,
      "outputs": [
        {
          "output_type": "stream",
          "name": "stdout",
          "text": [
            "0.003636363636363636\n",
            "0.9963636363636363\n"
          ]
        }
      ]
    },
    {
      "cell_type": "code",
      "metadata": {
        "id": "Vqwb2xGD7Wlg"
      },
      "source": [
        ""
      ],
      "execution_count": null,
      "outputs": []
    }
  ]
}