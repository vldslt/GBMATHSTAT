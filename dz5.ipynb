{
  "nbformat": 4,
  "nbformat_minor": 0,
  "metadata": {
    "colab": {
      "name": "dz5.ipynb",
      "provenance": [],
      "authorship_tag": "ABX9TyMBEcE0uaUb2bEkvlRr2EsT",
      "include_colab_link": true
    },
    "kernelspec": {
      "name": "python3",
      "display_name": "Python 3"
    },
    "language_info": {
      "name": "python"
    }
  },
  "cells": [
    {
      "cell_type": "markdown",
      "metadata": {
        "id": "view-in-github",
        "colab_type": "text"
      },
      "source": [
        "<a href=\"https://colab.research.google.com/github/vldslt/GBMATHSTAT/blob/main/dz5.ipynb\" target=\"_parent\"><img src=\"https://colab.research.google.com/assets/colab-badge.svg\" alt=\"Open In Colab\"/></a>"
      ]
    },
    {
      "cell_type": "code",
      "metadata": {
        "id": "cWy0Jph7qV5u"
      },
      "source": [
        "import numpy as np"
      ],
      "execution_count": 3,
      "outputs": []
    },
    {
      "cell_type": "markdown",
      "metadata": {
        "id": "2weIiqcThmHy"
      },
      "source": [
        "1)Известно, что генеральная совокупность распределена нормально\n",
        "со средним квадратическим отклонением, равным 16.\n",
        "Найти доверительный интервал для оценки математического ожидания a с надежностью 0.95,\n",
        "если выборочная средняя M = 80, а объем выборки n = 256."
      ]
    },
    {
      "cell_type": "code",
      "metadata": {
        "colab": {
          "base_uri": "https://localhost:8080/"
        },
        "id": "waYPszg1hilM",
        "outputId": "5dceb289-7fdf-46c4-b5ad-1978c5c1a6be"
      },
      "source": [
        "s = 16\n",
        "t = 0.05\n",
        "m = 80\n",
        "n = 256\n",
        "\n",
        "x1 = 80 + 0.5199 * 16 / 256**0.5\n",
        "x2 = 80 - 0.5199 * 16 / 256**0.5\n",
        "print(x2,x1)\n",
        "1.664"
      ],
      "execution_count": 23,
      "outputs": [
        {
          "output_type": "stream",
          "name": "stdout",
          "text": [
            "79.4801 80.5199\n"
          ]
        },
        {
          "output_type": "execute_result",
          "data": {
            "text/plain": [
              "1.664"
            ]
          },
          "metadata": {},
          "execution_count": 23
        }
      ]
    },
    {
      "cell_type": "markdown",
      "metadata": {
        "id": "6sTyvOO_htk-"
      },
      "source": [
        "2)В результате 10 независимых измерений некоторой величины X, выполненных с одинаковой точностью,\n",
        "получены опытные данные:\n",
        "6.9, 6.1, 6.2, 6.8, 7.5, 6.3, 6.4, 6.9, 6.7, 6.1\n",
        "Предполагая, что результаты измерений подчинены нормальному закону распределения вероятностей,\n",
        "оценить истинное значение величины X при помощи доверительного интервала, покрывающего это\n",
        "значение с доверительной вероятностью 0,95."
      ]
    },
    {
      "cell_type": "code",
      "metadata": {
        "colab": {
          "base_uri": "https://localhost:8080/"
        },
        "id": "IgPvV_7KiAyE",
        "outputId": "9bf7975e-99a1-46b9-a5be-db9ceae47d14"
      },
      "source": [
        "t = 0.95\n",
        "a = [6.9, 6.1, 6.2, 6.8, 7.5, 6.3, 6.4, 6.9, 6.7, 6.1]\n",
        "a_avg = sum(a)/len(a)\n",
        "np.std(a)\n",
        "\n",
        "\n"
      ],
      "execution_count": 30,
      "outputs": [
        {
          "output_type": "execute_result",
          "data": {
            "text/plain": [
              "0.42766809560686203"
            ]
          },
          "metadata": {},
          "execution_count": 30
        }
      ]
    },
    {
      "cell_type": "code",
      "metadata": {
        "colab": {
          "base_uri": "https://localhost:8080/"
        },
        "id": "FgzPV3ZY-DqQ",
        "outputId": "b06cf20d-40d9-4841-be38-bf3f30278808"
      },
      "source": [
        "x1 = a_avg + 1.812 * np.std(a) / 10**0.5\n",
        "x2 = a_avg - 1.812 * np.std(a) / 10**0.5\n",
        "print(x2,x1)"
      ],
      "execution_count": 33,
      "outputs": [
        {
          "output_type": "stream",
          "name": "stdout",
          "text": [
            "6.344944166035574 6.835055833964424\n"
          ]
        }
      ]
    },
    {
      "cell_type": "markdown",
      "metadata": {
        "id": "qF5TQIWjhzbW"
      },
      "source": [
        "3)Утверждается, что шарики для подшипников, изготовленные автоматическим станком, имеют средний диаметр 17 мм.\n",
        "Используя односторонний критерий с α=0,05, проверить эту гипотезу, если в выборке из n=100 шариков средний диаметр\n",
        "оказался равным 17.5 мм, а дисперсия известна и равна 4 кв. мм."
      ]
    },
    {
      "cell_type": "code",
      "metadata": {
        "colab": {
          "base_uri": "https://localhost:8080/"
        },
        "id": "OuiEMTOLiBjt",
        "outputId": "01cff095-6355-4d70-88e4-7df105413657"
      },
      "source": [
        "a = 0.05\n",
        "n = 100\n",
        "n0 = 17\n",
        "n1 = 17.5\n",
        "s = 4\n",
        "\n",
        "# утверждаем, что z0<z1\n",
        "\n",
        "z0 = (n1 - n0)/(s/n**0.5)\n",
        "z0\n",
        "z1 = 1.65 => z1>z0 \n",
        "\n"
      ],
      "execution_count": 1,
      "outputs": [
        {
          "output_type": "execute_result",
          "data": {
            "text/plain": [
              "1.25"
            ]
          },
          "metadata": {},
          "execution_count": 1
        }
      ]
    },
    {
      "cell_type": "markdown",
      "metadata": {
        "id": "auomyfF2h4ae"
      },
      "source": [
        "4)Продавец утверждает, что средний вес пачки печенья составляет 200 г.\n",
        "Из партии извлечена выборка из 10 пачек. Вес каждой пачки составляет:\n",
        "202, 203, 199, 197, 195, 201, 200, 204, 194, 190.\n",
        "Известно, что их веса распределены нормально.\n",
        "Верно ли утверждение продавца, если учитывать, что доверительная вероятность равна 99%?`"
      ]
    },
    {
      "cell_type": "code",
      "metadata": {
        "colab": {
          "base_uri": "https://localhost:8080/"
        },
        "id": "qixmPQkTiCJo",
        "outputId": "2f35eac2-ad9b-4445-af17-93d978bf4106"
      },
      "source": [
        "a = [202, 203, 199, 197, 195, 201, 200, 204, 194, 190]\n",
        "np.std(a,ddof=1)\n",
        "#np.std(a)\n"
      ],
      "execution_count": 19,
      "outputs": [
        {
          "output_type": "execute_result",
          "data": {
            "text/plain": [
              "4.453463071962462"
            ]
          },
          "metadata": {},
          "execution_count": 19
        }
      ]
    },
    {
      "cell_type": "code",
      "metadata": {
        "colab": {
          "base_uri": "https://localhost:8080/"
        },
        "id": "YkJsN5cZvzmO",
        "outputId": "f73fb8bf-a007-4b89-ceb4-e1e78d11420a"
      },
      "source": [
        "t = 4.781\n",
        "x1 = m + t* 4.453/(10**0.5)\n",
        "x2 = m - t* 4.453/(10**0.5)\n",
        "print(x1,x2)"
      ],
      "execution_count": 17,
      "outputs": [
        {
          "output_type": "stream",
          "name": "stdout",
          "text": [
            "205.23242367935092 191.76757632064908\n"
          ]
        }
      ]
    },
    {
      "cell_type": "code",
      "metadata": {
        "id": "1TKdccKLxZpK"
      },
      "source": [
        "#все пачки из выборки соответствуют 99% доверительному интервалу"
      ],
      "execution_count": null,
      "outputs": []
    }
  ]
}