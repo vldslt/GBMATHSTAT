{
  "nbformat": 4,
  "nbformat_minor": 0,
  "metadata": {
    "colab": {
      "name": "dz7.ipynb",
      "provenance": [],
      "authorship_tag": "ABX9TyNPTcOqC4NjAHg2tv6T7NIQ",
      "include_colab_link": true
    },
    "kernelspec": {
      "name": "python3",
      "display_name": "Python 3"
    },
    "language_info": {
      "name": "python"
    }
  },
  "cells": [
    {
      "cell_type": "markdown",
      "metadata": {
        "id": "view-in-github",
        "colab_type": "text"
      },
      "source": [
        "<a href=\"https://colab.research.google.com/github/vldslt/GBMATHSTAT/blob/main/dz7.ipynb\" target=\"_parent\"><img src=\"https://colab.research.google.com/assets/colab-badge.svg\" alt=\"Open In Colab\"/></a>"
      ]
    },
    {
      "cell_type": "code",
      "metadata": {
        "id": "SGZXj6EPOQLQ"
      },
      "source": [
        "import numpy as np\n",
        "import seaborn as sns\n",
        "from sklearn.linear_model import LinearRegression\n"
      ],
      "execution_count": 37,
      "outputs": []
    },
    {
      "cell_type": "markdown",
      "metadata": {
        "id": "9KrGHE_ENr0S"
      },
      "source": [
        "Даны значения величины заработной платы заемщиков банка (zp) и значения их поведенческого кредитного скоринга (ks): zp = [35, 45, 190, 200, 40, 70, 54, 150, 120, 110], ks = [401, 574, 874, 919, 459, 739, 653, 902, 746, 832]. Используя математические операции, посчитать коэффициенты линейной регрессии, приняв за X заработную плату (то есть, zp - признак), а за y - значения скорингового балла (то есть, ks - целевая переменная). Произвести расчет как с использованием intercept, так и без.\n"
      ]
    },
    {
      "cell_type": "code",
      "metadata": {
        "id": "7O_tVe7EN0up"
      },
      "source": [
        "x = np.array([35, 45, 190, 200, 40, 70, 54, 150, 120, 110])\n",
        "y = np.array([401, 574, 874, 919, 459, 739, 653, 902, 746, 832])"
      ],
      "execution_count": 46,
      "outputs": []
    },
    {
      "cell_type": "code",
      "metadata": {
        "colab": {
          "base_uri": "https://localhost:8080/"
        },
        "id": "vuYkptTPOxK1",
        "outputId": "dfb970bc-43ae-4d22-e8e4-5ef2e7b5ab9e"
      },
      "source": [
        "b = (np.mean(x * y) - np.mean(x) * np.mean(y)) / (np.mean(x**2) - np.mean(x) ** 2)\n",
        "b"
      ],
      "execution_count": 47,
      "outputs": [
        {
          "output_type": "execute_result",
          "data": {
            "text/plain": [
              "2.620538882402765"
            ]
          },
          "metadata": {},
          "execution_count": 47
        }
      ]
    },
    {
      "cell_type": "code",
      "metadata": {
        "colab": {
          "base_uri": "https://localhost:8080/"
        },
        "id": "pUAmdNjYPHbb",
        "outputId": "a574d489-b095-4e38-8262-eeb7f68e112a"
      },
      "source": [
        "a = np.mean(y) - b * np.mean(x)\n",
        "a"
      ],
      "execution_count": 48,
      "outputs": [
        {
          "output_type": "execute_result",
          "data": {
            "text/plain": [
              "444.1773573243596"
            ]
          },
          "metadata": {},
          "execution_count": 48
        }
      ]
    },
    {
      "cell_type": "code",
      "metadata": {
        "id": "zbMnuP1egtrz"
      },
      "source": [
        "x = x.reshape((10, 1))\n",
        "y = y.reshape((10, 1))"
      ],
      "execution_count": 49,
      "outputs": []
    },
    {
      "cell_type": "code",
      "metadata": {
        "colab": {
          "base_uri": "https://localhost:8080/"
        },
        "id": "24j_TvmohvLV",
        "outputId": "ca022db2-ca22-4876-957e-714763a22faf"
      },
      "source": [
        "x = np.hstack([np.ones((10,1)),x])\n"
      ],
      "execution_count": 50,
      "outputs": [
        {
          "output_type": "execute_result",
          "data": {
            "text/plain": [
              "array([[  1.,  35.],\n",
              "       [  1.,  45.],\n",
              "       [  1., 190.],\n",
              "       [  1., 200.],\n",
              "       [  1.,  40.],\n",
              "       [  1.,  70.],\n",
              "       [  1.,  54.],\n",
              "       [  1., 150.],\n",
              "       [  1., 120.],\n",
              "       [  1., 110.]])"
            ]
          },
          "metadata": {},
          "execution_count": 50
        }
      ]
    },
    {
      "cell_type": "code",
      "metadata": {
        "colab": {
          "base_uri": "https://localhost:8080/"
        },
        "id": "-ulnK7XfiEMN",
        "outputId": "603621eb-968f-443a-e7fa-9595fe5b3fda"
      },
      "source": [
        "b = np.dot(np.linalg.inv(np.dot(x.T,x)),x.T@y)\n",
        "b\n"
      ],
      "execution_count": 53,
      "outputs": [
        {
          "output_type": "execute_result",
          "data": {
            "text/plain": [
              "array([[444.17735732],\n",
              "       [  2.62053888]])"
            ]
          },
          "metadata": {},
          "execution_count": 53
        }
      ]
    },
    {
      "cell_type": "markdown",
      "metadata": {
        "id": "5hBWW_gFNzx8"
      },
      "source": [
        "Посчитать коэффициент линейной регрессии при заработной плате (zp), используя градиентный спуск (без intercept)."
      ]
    },
    {
      "cell_type": "code",
      "metadata": {
        "id": "VefTa_SXe_qW"
      },
      "source": [
        "def mse_(B1,y=y,x=x,n=10):\n",
        "  return np.sum((B1*x-y)**2)/n"
      ],
      "execution_count": 55,
      "outputs": []
    },
    {
      "cell_type": "code",
      "metadata": {
        "id": "yuK2H7QHnPeJ"
      },
      "source": [
        "alpha = 9e-6"
      ],
      "execution_count": 90,
      "outputs": []
    },
    {
      "cell_type": "code",
      "metadata": {
        "id": "9_DL9idanenr"
      },
      "source": [
        "B1 = 0.0001"
      ],
      "execution_count": 95,
      "outputs": []
    },
    {
      "cell_type": "code",
      "metadata": {
        "id": "VunyGP9QqDmG"
      },
      "source": [
        "n = 10"
      ],
      "execution_count": 64,
      "outputs": []
    },
    {
      "cell_type": "code",
      "metadata": {
        "colab": {
          "base_uri": "https://localhost:8080/"
        },
        "id": "gfsFZ1Zwo834",
        "outputId": "ab3d69be-d2ae-4155-96bf-1042b9170c8b"
      },
      "source": [
        "for i in range (5000):\n",
        "  B1 -=alpha*(2/n)*np.sum((B1*x-y)*x)\n",
        "  if i%500==0:\n",
        "    print('iter:{i},B1:{B1}, mse={mse}'.format(i=i, B1=B1, mse=mse_(B1)))"
      ],
      "execution_count": 96,
      "outputs": [
        {
          "output_type": "stream",
          "name": "stdout",
          "text": [
            "iter:0,B1:1.4734040003200004, mse=857562.90866601\n",
            "iter:500,B1:5.940918592497966, mse=582580.1077342933\n",
            "iter:1000,B1:5.940918592497966, mse=582580.1077342933\n",
            "iter:1500,B1:5.940918592497966, mse=582580.1077342933\n",
            "iter:2000,B1:5.940918592497966, mse=582580.1077342933\n",
            "iter:2500,B1:5.940918592497966, mse=582580.1077342933\n",
            "iter:3000,B1:5.940918592497966, mse=582580.1077342933\n",
            "iter:3500,B1:5.940918592497966, mse=582580.1077342933\n",
            "iter:4000,B1:5.940918592497966, mse=582580.1077342933\n",
            "iter:4500,B1:5.940918592497966, mse=582580.1077342933\n"
          ]
        }
      ]
    },
    {
      "cell_type": "code",
      "metadata": {
        "colab": {
          "base_uri": "https://localhost:8080/"
        },
        "id": "FEC3-KjZrg9f",
        "outputId": "842386da-06ad-4626-9da7-aa8f9a85708b"
      },
      "source": [
        "for i in range (10):\n",
        "  B1 -=alpha*(2/n)*np.sum((B1*x-y)*x)\n",
        "  if i%1==0:\n",
        "    print('iter:{i},B1:{B1}, mse={mse}'.format(i=i, B1=B1, mse=mse_(B1)))"
      ],
      "execution_count": 97,
      "outputs": [
        {
          "output_type": "stream",
          "name": "stdout",
          "text": [
            "iter:0,B1:5.940918592497966, mse=582580.1077342933\n",
            "iter:1,B1:5.940918592497966, mse=582580.1077342933\n",
            "iter:2,B1:5.940918592497966, mse=582580.1077342933\n",
            "iter:3,B1:5.940918592497966, mse=582580.1077342933\n",
            "iter:4,B1:5.940918592497966, mse=582580.1077342933\n",
            "iter:5,B1:5.940918592497966, mse=582580.1077342933\n",
            "iter:6,B1:5.940918592497966, mse=582580.1077342933\n",
            "iter:7,B1:5.940918592497966, mse=582580.1077342933\n",
            "iter:8,B1:5.940918592497966, mse=582580.1077342933\n",
            "iter:9,B1:5.940918592497966, mse=582580.1077342933\n"
          ]
        }
      ]
    },
    {
      "cell_type": "code",
      "metadata": {
        "id": "3TbdVxxjsDVF"
      },
      "source": [
        ""
      ],
      "execution_count": null,
      "outputs": []
    }
  ]
}